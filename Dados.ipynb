{
 "cells": [
  {
   "cell_type": "markdown",
   "metadata": {},
   "source": [
    "pega dados de uma tabela de um site"
   ]
  },
  {
   "cell_type": "code",
   "execution_count": 1,
   "metadata": {},
   "outputs": [
    {
     "name": "stdout",
     "output_type": "stream",
     "text": [
      "Número de tabelas encontradas: 1\n",
      "    Classificação                                     Nome  \\\n",
      "0               1                                  Walmart   \n",
      "1               2                               State Grid   \n",
      "2               3                 China National Petroleum   \n",
      "3               4                                  Sinopec   \n",
      "4               5                        Royal Dutch Shell   \n",
      "5               6                              Exxon Mobil   \n",
      "6               7                               Volkswagen   \n",
      "7               8                                   Toyota   \n",
      "8               9                                    Apple   \n",
      "9              10                                       BP   \n",
      "10             11                       Berkshire Hathaway   \n",
      "11             12                                 McKesson   \n",
      "12             13                                  Samsung   \n",
      "13             14                                 Glencore   \n",
      "14             16                                    Total   \n",
      "15             19                            China Railway   \n",
      "16             20                              Phillips 66   \n",
      "17             21                               Japan Post   \n",
      "18             22                                  Daimler   \n",
      "19             23                           General Motors   \n",
      "20             24                         General Electric   \n",
      "21             25                                     Exor   \n",
      "22             26                                  Allianz   \n",
      "23             27                       Ford Motor Company   \n",
      "24             28                                Petrobras   \n",
      "25             29                                   Lukoil   \n",
      "26             30                                    Honda   \n",
      "27             31                               CVS Health   \n",
      "28             32                                  Chevron   \n",
      "29             33  Industrial and Commercial Bank of China   \n",
      "30             34                                     E·ON   \n",
      "31             35                                  Foxconn   \n",
      "32             36                                      Eni   \n",
      "33             37                                     AT&T   \n",
      "34             38                                   Valero   \n",
      "35             39                       UnitedHealth Group   \n",
      "36             40                                    PDVSA   \n",
      "37             41                                Trafigura   \n",
      "38             42                                  Verizon   \n",
      "39             43           China Construction Engineering   \n",
      "40             44                                  Cargill   \n",
      "41             45                        AmerisourceBergen   \n",
      "42             46                          Koch Industries   \n",
      "43             47                                   Costco   \n",
      "44             48               Hewlett Packard Enterprise   \n",
      "45             49                               Grupo Tata   \n",
      "\n",
      "               Indústria Receita (bilhões de USD) Crescimento da receita  \\\n",
      "0                 Varejo                     $482                   0,7%   \n",
      "1            Eletrônicos                     $330                   2,9%   \n",
      "2         Petróleo e gás                     $299                  30,2%   \n",
      "3         Petróleo e gás                     $294                  34,1%   \n",
      "4         Petróleo e gás                     $272                  36,9%   \n",
      "5         Petróleo e gás                     $246                  35,6%   \n",
      "6             Automotiva                     $237                  11,9%   \n",
      "7             Automotiva                     $237                   4,5%   \n",
      "8            Eletrônicos                     $234                  27,9%   \n",
      "9         Petróleo e gás                     $223                    37%   \n",
      "10          Conglomerado                     $211                   8,3%   \n",
      "11          Farmacêutica                     $192                   6,2%   \n",
      "12          Conglomerado                     $177                   9,4%   \n",
      "13           Commodities                     $170                  22,9%   \n",
      "14        Petróleo e gás                     $212                  11,5%   \n",
      "15           Transportes                     $163                  4.,7%   \n",
      "16        Petróleo e gás                     $161                   6,4%   \n",
      "17          Conglomerado                     $157                   6,9%   \n",
      "18            Automotiva                     $157                  10,1%   \n",
      "19            Automotiva                     $152                   1,7%   \n",
      "20          Conglomerado                     $149                   1,7%   \n",
      "21  Serviços financeiros                     $148                   7,8%   \n",
      "22  Serviços financeiros                     $148                  10,4%   \n",
      "23            Automotiva                     $144                   2,0%   \n",
      "24        Petróleo e gás                     $144                   1,6%   \n",
      "25        Petróleo e gás                     $144                   1,9%   \n",
      "26            Automotiva                     $142                  20,0%   \n",
      "27                Varejo                     $139                   9,9%   \n",
      "28        Petróleo e gás                     $138                  34,9%   \n",
      "29  Serviços financeiros                     $137                  10,8%   \n",
      "30           Eletrônicos                     $135                   9,8%   \n",
      "31           Eletrônicos                     $133                   6,6%   \n",
      "32        Petróleo e gás                     $133                   4,4%   \n",
      "33      Telecomunicações                   $146,8                   2,9%   \n",
      "34        Petróleo e gás                     $131                   5,5%   \n",
      "35        Plano de saúde                     $131                   6.5%   \n",
      "36        Petróleo e gás                     $128                   4,4%   \n",
      "37           Commodities                     $128                   0,4%   \n",
      "38      Telecomunicações                     $127                   5,4%   \n",
      "39            Construção                     $125                  17,3%   \n",
      "40     Comida processada                     $120                  12,0%   \n",
      "41          Farmacêutica                     $136                  35,9%   \n",
      "42          Conglomerado                     $115                   4,5%   \n",
      "43                Varejo                     $114                   7,1%   \n",
      "44           Eletrônicos                     $111                   0,8%   \n",
      "45          Conglomerado                     $108                   5,8%   \n",
      "\n",
      "   Empregados  País                        Sede                    CEO Ref(s)  \n",
      "0   2.300.000   NaN      Bentonville (Arkansas)          Doug McMillon    [1]  \n",
      "1     927.839   NaN                      Pequim            Shu Yinbiao    [2]  \n",
      "2   1.589.508   NaN                      Pequim             Wang Yilin    [3]  \n",
      "3     810.538   NaN                      Pequim              Wang Yupu    [4]  \n",
      "4      90.000   NaN                        Haia        Ben van Beurden    [5]  \n",
      "5      75.600   NaN              Irving (Texas)          Rex Tillerson    [6]  \n",
      "6     610.076   NaN                   Wolfsburg        Matthias Müller    [7]  \n",
      "7     348.877   NaN              Toyota (Aichi)            Akio Toyoda    [8]  \n",
      "8      72.494   NaN                   Cupertino               Tim Cook    [9]  \n",
      "9      79.800   NaN                     Londres             Bob Dudley   [10]  \n",
      "10    331.000   NaN            Omaha (Nebraska)         Warren Buffett   [11]  \n",
      "11     68.000   NaN               San Francisco        John Hammergren   [12]  \n",
      "12    319.000   NaN                       Suwon           Oh-Hyun Kwon   [13]  \n",
      "13    102.388   NaN                        Baar        Ivan Glasenberg   [14]  \n",
      "14    100.307   NaN                  Courbevoie                     fr   [15]  \n",
      "15  2.045.600   NaN                      Pequim          Sheng Guangzu   [16]  \n",
      "16     13.500   NaN                     Houston           Greg Garland   [17]  \n",
      "17    229.000   NaN                      Tóquio             Jiro Saito   [18]  \n",
      "18    275.087   NaN                   Stuttgart         Dieter Zetsche   [19]  \n",
      "19    284.000   NaN                     Detroit             Mary Barra   [20]  \n",
      "20    305.000   NaN                      Boston         Jeffrey Immelt   [21]  \n",
      "21    318.562   NaN                       Turim            John Elkann   [22]  \n",
      "22    147.425   NaN                     Munique            Oliver Bäte   [23]  \n",
      "23    164.000   NaN         Dearborn (Michigan)            Mark Fields   [24]  \n",
      "24     86.111   NaN              Rio de Janeiro          Pedro Parente   [25]  \n",
      "25    120.000   NaN                      Moscou        Vagit Alekperov   [26]  \n",
      "26    198.561   NaN                       Tokyo       Takahiro Hachigo   [27]  \n",
      "27    208.000   NaN   Woonsocket (Rhode Island)            Larry Merlo   [28]  \n",
      "28     64.700   NaN      San Ramon (Califórnia)            John Watson   [29]  \n",
      "29    405.354   NaN                      Pequim         Jiang Jianqing   [30]  \n",
      "30     79.000   NaN                  Düsseldorf       Johannes Teyssen   [31]  \n",
      "31  1.290.000   NaN                      Taiwan              Terry Gou   [32]  \n",
      "32     82.289   NaN                        Roma       Claudio Descalzi   [33]  \n",
      "33    256.000   NaN                      Dallas  Randall L. Stephenson   [34]  \n",
      "34     22.000   NaN          San Antonio, Texas      William R. Klesse   [35]  \n",
      "35     99.000   NaN      Minnetonka (Minnesota)        Stephen Hemsley   [36]  \n",
      "36    121.000   NaN                     Caracas         Rafael Ramírez   [37]  \n",
      "37      5.326   NaN                     Lucerna         Claude Dauphin   [38]  \n",
      "38    176.000   NaN                   Nova York          Lowell McAdam   [39]  \n",
      "39    216.824   NaN                      Pequim                 Yi Jun   [40]  \n",
      "40    158.000   NaN         Wayzata (Minnesota)         Dave MacLennan   [41]  \n",
      "41     14.500   NaN  Chesterbrook (Pensilvânia)       Steven H. Collis   [42]  \n",
      "42    100.000   NaN            Wichita (Kansas)           Charles Koch   [43]  \n",
      "43    189.000   NaN                    Issaquah       W. Craig Jelinek   [44]  \n",
      "44    302.000   NaN                   Palo Alto            Meg Whitman   [45]  \n",
      "45    600.000   NaN                      Mumbai             Ratan Tata   [46]  \n"
     ]
    }
   ],
   "source": [
    "# pega dados de uma tabela de um site\n",
    "\n",
    "import pandas as pd\n",
    "\n",
    "URL = \"https://pt.wikipedia.org/wiki/Lista_das_maiores_empresas_do_mundo_por_receita\"\n",
    "\n",
    "try:\n",
    "    # Ler todas as tabelas da URL fornecida\n",
    "    tabelas = pd.read_html(URL)\n",
    "    \n",
    "    # Exibir o número de tabelas encontradas na URL\n",
    "    print(f\"Número de tabelas encontradas: {len(tabelas)}\")\n",
    "\n",
    "    # Selecionar a primeira tabela\n",
    "    df_brasileirao = tabelas[0]\n",
    "\n",
    "    # Exibir a tabela\n",
    "    print(df_brasileirao)\n",
    "\n",
    "except Exception as e:\n",
    "    print(f\"Erro ao acessar a URL ou ler as tabelas: {e}\")\n"
   ]
  },
  {
   "cell_type": "code",
   "execution_count": null,
   "metadata": {},
   "outputs": [],
   "source": []
  },
  {
   "cell_type": "markdown",
   "metadata": {},
   "source": []
  },
  {
   "cell_type": "markdown",
   "metadata": {},
   "source": []
  },
  {
   "cell_type": "markdown",
   "metadata": {},
   "source": [
    "faz dados fake com   Faker     site   https://faker.readthedocs.io/en/master/locales/pt_BR.html"
   ]
  },
  {
   "cell_type": "markdown",
   "metadata": {},
   "source": []
  },
  {
   "cell_type": "code",
   "execution_count": 41,
   "metadata": {},
   "outputs": [
    {
     "name": "stdout",
     "output_type": "stream",
     "text": [
      "48764 Howard Forge Apt. 421\n",
      "Vanessaside, VT 79393\n",
      "PSC 4115, Box 7815\n",
      "APO AA 41945\n",
      "778 Brown Plaza\n",
      "North Jenniferfurt, VT 88077\n",
      "3513 John Divide Suite 115\n",
      "Rodriguezside, LA 93111\n",
      "398 Wallace Ranch Suite 593\n",
      "Ivanburgh, AZ 80818\n"
     ]
    }
   ],
   "source": [
    "from faker import Faker\n",
    "\n",
    "Faker.seed(0)\n",
    "fake = Faker()\n",
    "for _ in range(5):\n",
    "    print(fake.address())\n"
   ]
  },
  {
   "cell_type": "code",
   "execution_count": null,
   "metadata": {},
   "outputs": [],
   "source": []
  },
  {
   "cell_type": "markdown",
   "metadata": {},
   "source": []
  },
  {
   "cell_type": "code",
   "execution_count": 18,
   "metadata": {},
   "outputs": [
    {
     "name": "stdout",
     "output_type": "stream",
     "text": [
      "YNB-8I76\n",
      "PLS-8G24\n",
      "YDT-4Z89\n",
      "JDX-5C78\n",
      "LNK-3T87\n",
      "QIB-8Z01\n",
      "WZV-0U97\n",
      "HXK-1W39\n",
      "HZE-8Z71\n",
      "KQP-4D84\n"
     ]
    }
   ],
   "source": [
    "from faker import Faker\n",
    "from faker.providers import automotive\n",
    "\n",
    "Faker.seed(0)\n",
    "fake = Faker('pt_BR')\n",
    "fake.add_provider(automotive)\n",
    "\n",
    "for _ in range(10):\n",
    "    print(fake.license_plate())"
   ]
  },
  {
   "cell_type": "markdown",
   "metadata": {},
   "source": []
  },
  {
   "cell_type": "code",
   "execution_count": 27,
   "metadata": {},
   "outputs": [
    {
     "name": "stdout",
     "output_type": "stream",
     "text": [
      "('MG', 'Minas Gerais')\n",
      "('SP', 'São Paulo')\n",
      "('PA', 'Pará')\n",
      "('AL', 'Alagoas')\n",
      "('GO', 'Goiás')\n"
     ]
    }
   ],
   "source": [
    "import random\n",
    "\n",
    "# Lista de estados brasileiros com suas siglas\n",
    "estados = [\n",
    "    ('AC', 'Acre'),\n",
    "    ('AL', 'Alagoas'),\n",
    "    ('AP', 'Amapá'),\n",
    "    ('AM', 'Amazonas'),\n",
    "    ('BA', 'Bahia'),\n",
    "    ('CE', 'Ceará'),\n",
    "    ('DF', 'Distrito Federal'),\n",
    "    ('ES', 'Espírito Santo'),\n",
    "    ('GO', 'Goiás'),\n",
    "    ('MA', 'Maranhão'),\n",
    "    ('MT', 'Mato Grosso'),\n",
    "    ('MS', 'Mato Grosso do Sul'),\n",
    "    ('MG', 'Minas Gerais'),\n",
    "    ('PA', 'Pará'),\n",
    "    ('PB', 'Paraíba'),\n",
    "    ('PR', 'Paraná'),\n",
    "    ('PE', 'Pernambuco'),\n",
    "    ('PI', 'Piauí'),\n",
    "    ('RJ', 'Rio de Janeiro'),\n",
    "    ('RN', 'Rio Grande do Norte'),\n",
    "    ('RS', 'Rio Grande do Sul'),\n",
    "    ('RO', 'Rondônia'),\n",
    "    ('RR', 'Roraima'),\n",
    "    ('SC', 'Santa Catarina'),\n",
    "    ('SP', 'São Paulo'),\n",
    "    ('SE', 'Sergipe'),\n",
    "    ('TO', 'Tocantins')\n",
    "]\n",
    "\n",
    "# Definindo a função estado\n",
    "def estado():\n",
    "    return random.choice(estados)\n",
    "\n",
    "# Exemplo de uso\n",
    "random.seed(0)\n",
    "for _ in range(5):\n",
    "    print(estado())"
   ]
  },
  {
   "cell_type": "markdown",
   "metadata": {},
   "source": []
  },
  {
   "cell_type": "code",
   "execution_count": 36,
   "metadata": {},
   "outputs": [
    {
     "name": "stdout",
     "output_type": "stream",
     "text": [
      "Minas Gerais\n",
      "São Paulo\n",
      "Pará\n",
      "Alagoas\n",
      "Goiás\n"
     ]
    }
   ],
   "source": [
    "from faker import Faker\n",
    "\n",
    "Faker.seed(0)\n",
    "fake = Faker('pt_BR')\n",
    "\n",
    "for _ in range(5):\n",
    "    print(fake.estado_nome())"
   ]
  },
  {
   "cell_type": "markdown",
   "metadata": {},
   "source": []
  },
  {
   "cell_type": "code",
   "execution_count": 37,
   "metadata": {},
   "outputs": [
    {
     "name": "stdout",
     "output_type": "stream",
     "text": [
      "MG\n",
      "SP\n",
      "PA\n",
      "AL\n",
      "GO\n"
     ]
    }
   ],
   "source": [
    "from faker import Faker\n",
    "\n",
    "Faker.seed(0)\n",
    "fake = Faker('pt_BR')\n",
    "\n",
    "for _ in range(5):\n",
    "    print(fake.estado_sigla())"
   ]
  },
  {
   "cell_type": "markdown",
   "metadata": {},
   "source": []
  },
  {
   "cell_type": "code",
   "execution_count": 43,
   "metadata": {},
   "outputs": [
    {
     "name": "stdout",
     "output_type": "stream",
     "text": [
      "Bandeirantes\n",
      "Mirante\n",
      "Vila Santa Monica 2ª Seção\n",
      "Fernão Dias\n",
      "Nova Pampulha\n"
     ]
    }
   ],
   "source": [
    "from faker import Faker\n",
    "\n",
    "Faker.seed(0)\n",
    "fake = Faker('pt_BR')\n",
    "\n",
    "for _ in range(5):\n",
    "    print(fake.neighborhood())"
   ]
  },
  {
   "cell_type": "markdown",
   "metadata": {},
   "source": []
  },
  {
   "cell_type": "code",
   "execution_count": 44,
   "metadata": {},
   "outputs": [
    {
     "name": "stdout",
     "output_type": "stream",
     "text": [
      "60487-647\n",
      "93824-219\n",
      "89241-157\n",
      "56593877\n",
      "08016-097\n"
     ]
    }
   ],
   "source": [
    "from faker import Faker\n",
    "\n",
    "Faker.seed(0)\n",
    "fake = Faker('pt_BR')\n",
    "\n",
    "for _ in range(5):\n",
    "    print(fake.postcode())"
   ]
  },
  {
   "cell_type": "markdown",
   "metadata": {},
   "source": []
  },
  {
   "cell_type": "code",
   "execution_count": 45,
   "metadata": {},
   "outputs": [
    {
     "name": "stdout",
     "output_type": "stream",
     "text": [
      "Pátio Bruno da Luz, 576\n",
      "Trecho Pedro Henrique Montenegro, 34\n",
      "Vale da Cunha, 592\n",
      "Campo de Rodrigues\n",
      "Sítio Guilherme Fogaça, 45\n"
     ]
    }
   ],
   "source": [
    "from faker import Faker\n",
    "\n",
    "Faker.seed(0)\n",
    "fake = Faker('pt_BR')\n",
    "\n",
    "for _ in range(5):\n",
    "    print(fake.street_address())"
   ]
  },
  {
   "cell_type": "markdown",
   "metadata": {},
   "source": []
  },
  {
   "cell_type": "code",
   "execution_count": 48,
   "metadata": {},
   "outputs": [
    {
     "name": "stdout",
     "output_type": "stream",
     "text": [
      "rgb(26, 155, 88)\n",
      "rgb(9, 193, 49)\n",
      "rgb(73, 229, 154)\n",
      "rgb(107, 249, 166)\n",
      "rgb(76, 204, 69)\n"
     ]
    }
   ],
   "source": [
    "from faker import Faker\n",
    "\n",
    "Faker.seed(0)\n",
    "fake = Faker()\n",
    "\n",
    "for _ in range(5):\n",
    "    print(fake.color(hue=(100, 200), color_format='rgb'))\n"
   ]
  },
  {
   "cell_type": "markdown",
   "metadata": {},
   "source": []
  },
  {
   "cell_type": "code",
   "execution_count": 49,
   "metadata": {},
   "outputs": [
    {
     "name": "stdout",
     "output_type": "stream",
     "text": [
      "Vermelho enegrecido\n",
      "Dourado escuro\n",
      "Turquesa média\n",
      "Feldspato\n",
      "Amarelo ouro claro\n"
     ]
    }
   ],
   "source": [
    "from faker import Faker\n",
    "\n",
    "Faker.seed(0)\n",
    "fake = Faker('pt_BR')\n",
    "\n",
    "for _ in range(5):\n",
    "    print(fake.color_name())"
   ]
  },
  {
   "cell_type": "markdown",
   "metadata": {},
   "source": []
  },
  {
   "cell_type": "code",
   "execution_count": 50,
   "metadata": {},
   "outputs": [
    {
     "name": "stdout",
     "output_type": "stream",
     "text": [
      "amarelo\n",
      "magenta\n",
      "marrom\n",
      "azul\n",
      "branco\n"
     ]
    }
   ],
   "source": [
    "from faker import Faker\n",
    "\n",
    "Faker.seed(0)\n",
    "fake = Faker('pt_BR')\n",
    "\n",
    "for _ in range(5):\n",
    "    print(fake.safe_color_name())"
   ]
  },
  {
   "cell_type": "markdown",
   "metadata": {},
   "source": []
  },
  {
   "cell_type": "code",
   "execution_count": 51,
   "metadata": {},
   "outputs": [
    {
     "name": "stdout",
     "output_type": "stream",
     "text": [
      "69.024.351/0001-39\n",
      "75.341.280/0001-09\n",
      "94.270.561/0001-54\n",
      "81.532.497/0001-90\n",
      "79.408.652/0001-10\n"
     ]
    }
   ],
   "source": [
    "from faker import Faker\n",
    "\n",
    "Faker.seed(0)\n",
    "fake = Faker('pt_BR')\n",
    "\n",
    "for _ in range(5):\n",
    "    print(fake.cnpj())"
   ]
  },
  {
   "cell_type": "markdown",
   "metadata": {},
   "source": []
  },
  {
   "cell_type": "code",
   "execution_count": 52,
   "metadata": {},
   "outputs": [
    {
     "name": "stdout",
     "output_type": "stream",
     "text": [
      "R$7.604,87\n",
      "R$975,93\n",
      "R$54,21\n",
      "R$89.241,15\n",
      "R$91.565,93\n"
     ]
    }
   ],
   "source": [
    "from faker import Faker\n",
    "\n",
    "Faker.seed(0)\n",
    "fake = Faker('pt_BR')\n",
    "\n",
    "for _ in range(5):\n",
    "    print(fake.pricetag())"
   ]
  },
  {
   "cell_type": "markdown",
   "metadata": {},
   "source": []
  },
  {
   "cell_type": "code",
   "execution_count": 53,
   "metadata": {},
   "outputs": [
    {
     "name": "stdout",
     "output_type": "stream",
     "text": [
      "1996-03-20\n",
      "2021-07-31\n",
      "1998-08-15\n",
      "1972-10-03\n",
      "1987-08-15\n"
     ]
    }
   ],
   "source": [
    "from faker import Faker\n",
    "\n",
    "Faker.seed(0)\n",
    "fake = Faker('pt_BR')\n",
    "\n",
    "for _ in range(5):\n",
    "    print(fake.date())"
   ]
  },
  {
   "cell_type": "markdown",
   "metadata": {},
   "source": []
  },
  {
   "cell_type": "code",
   "execution_count": 54,
   "metadata": {},
   "outputs": [
    {
     "name": "stdout",
     "output_type": "stream",
     "text": [
      "quarta-feira\n",
      "sábado\n",
      "sábado\n",
      "terça-feira\n",
      "sábado\n"
     ]
    }
   ],
   "source": [
    "from faker import Faker\n",
    "\n",
    "Faker.seed(0)\n",
    "fake = Faker('pt_BR')\n",
    "\n",
    "for _ in range(5):\n",
    "    print(fake.day_of_week())"
   ]
  },
  {
   "cell_type": "markdown",
   "metadata": {},
   "source": []
  },
  {
   "cell_type": "code",
   "execution_count": 55,
   "metadata": {},
   "outputs": [
    {
     "name": "stdout",
     "output_type": "stream",
     "text": [
      "07:46:39\n",
      "01:24:38\n",
      "08:43:22\n",
      "05:52:26\n",
      "09:51:25\n"
     ]
    }
   ],
   "source": [
    "from faker import Faker\n",
    "\n",
    "Faker.seed(0)\n",
    "fake = Faker('pt_BR')\n",
    "\n",
    "for _ in range(5):\n",
    "    print(fake.time())"
   ]
  },
  {
   "cell_type": "markdown",
   "metadata": {},
   "source": []
  },
  {
   "cell_type": "code",
   "execution_count": 57,
   "metadata": {},
   "outputs": [
    {
     "name": "stdout",
     "output_type": "stream",
     "text": [
      "1996\n",
      "2021\n",
      "1998\n",
      "1972\n",
      "1987\n"
     ]
    }
   ],
   "source": [
    "from faker import Faker\n",
    "\n",
    "Faker.seed(0)\n",
    "fake = Faker('pt_BR')\n",
    "\n",
    "for _ in range(5):\n",
    "    print(fake.year())"
   ]
  },
  {
   "cell_type": "markdown",
   "metadata": {},
   "source": []
  },
  {
   "cell_type": "code",
   "execution_count": 58,
   "metadata": {},
   "outputs": [
    {
     "name": "stdout",
     "output_type": "stream",
     "text": [
      "ateixeira@gmail.com\n",
      "nina76@yahoo.com.br\n",
      "lfogaca@hotmail.com\n",
      "alexiacarvalho@gmail.com\n",
      "sophia92@yahoo.com.br\n"
     ]
    }
   ],
   "source": [
    "from faker import Faker\n",
    "\n",
    "Faker.seed(0)\n",
    "fake = Faker('pt_BR')\n",
    "\n",
    "for _ in range(5):\n",
    "    print(fake.ascii_free_email())"
   ]
  },
  {
   "cell_type": "markdown",
   "metadata": {},
   "source": []
  },
  {
   "cell_type": "code",
   "execution_count": 59,
   "metadata": {},
   "outputs": [
    {
     "name": "stdout",
     "output_type": "stream",
     "text": [
      "ateixeira@example.org\n",
      "nina76@example.com\n",
      "lfogaca@example.org\n",
      "alexiacarvalho@example.org\n",
      "sophia92@example.com\n"
     ]
    }
   ],
   "source": [
    "from faker import Faker\n",
    "\n",
    "Faker.seed(0)\n",
    "fake = Faker('pt_BR')\n",
    "\n",
    "for _ in range(5):\n",
    "    print(fake.ascii_safe_email())"
   ]
  },
  {
   "cell_type": "markdown",
   "metadata": {},
   "source": []
  },
  {
   "cell_type": "code",
   "execution_count": 60,
   "metadata": {},
   "outputs": [
    {
     "name": "stdout",
     "output_type": "stream",
     "text": [
      "OPTIONS\n",
      "OPTIONS\n",
      "GET\n",
      "DELETE\n",
      "PATCH\n"
     ]
    }
   ],
   "source": [
    "from faker import Faker\n",
    "\n",
    "Faker.seed(0)\n",
    "fake = Faker('pt_BR')\n",
    "\n",
    "for _ in range(5):\n",
    "    print(fake.http_method())"
   ]
  },
  {
   "cell_type": "markdown",
   "metadata": {},
   "source": []
  },
  {
   "cell_type": "code",
   "execution_count": 61,
   "metadata": {},
   "outputs": [
    {
     "name": "stdout",
     "output_type": "stream",
     "text": [
      "532\n",
      "297\n",
      "488\n",
      "555\n",
      "315\n"
     ]
    }
   ],
   "source": [
    "from faker import Faker\n",
    "\n",
    "Faker.seed(0)\n",
    "fake = Faker('pt_BR')\n",
    "\n",
    "for _ in range(5):\n",
    "    print(fake.http_status_code())"
   ]
  },
  {
   "cell_type": "markdown",
   "metadata": {},
   "source": []
  },
  {
   "cell_type": "code",
   "execution_count": 62,
   "metadata": {},
   "outputs": [
    {
     "name": "stdout",
     "output_type": "stream",
     "text": [
      "6463344\n",
      "7056021\n",
      "679216\n",
      "4343903\n",
      "8577767\n"
     ]
    }
   ],
   "source": [
    "from faker import Faker\n",
    "\n",
    "Faker.seed(0)\n",
    "fake = Faker('pt_BR')\n",
    "\n",
    "for _ in range(5):\n",
    "    print(fake.iana_id())"
   ]
  },
  {
   "cell_type": "markdown",
   "metadata": {},
   "source": []
  },
  {
   "cell_type": "code",
   "execution_count": 63,
   "metadata": {},
   "outputs": [
    {
     "name": "stdout",
     "output_type": "stream",
     "text": [
      "https://picsum.photos/788/861\n",
      "https://dummyimage.com/530x995\n",
      "https://dummyimage.com/621x976\n",
      "https://dummyimage.com/447x285\n",
      "https://placekitten.com/286/194\n"
     ]
    }
   ],
   "source": [
    "from faker import Faker\n",
    "\n",
    "Faker.seed(0)\n",
    "fake = Faker('pt_BR')\n",
    "\n",
    "for _ in range(5):\n",
    "    print(fake.image_url())"
   ]
  },
  {
   "cell_type": "markdown",
   "metadata": {},
   "source": []
  },
  {
   "cell_type": "code",
   "execution_count": 64,
   "metadata": {},
   "outputs": [
    {
     "name": "stdout",
     "output_type": "stream",
     "text": [
      "171.174.170.81\n",
      "95.25.112.121\n",
      "51.105.121.194\n",
      "195.110.164.126\n",
      "141.250.247.54\n"
     ]
    }
   ],
   "source": [
    "from faker import Faker\n",
    "\n",
    "Faker.seed(0)\n",
    "fake = Faker('pt_BR')\n",
    "\n",
    "for _ in range(5):\n",
    "    print(fake.ipv4())"
   ]
  },
  {
   "cell_type": "markdown",
   "metadata": {},
   "source": []
  },
  {
   "cell_type": "code",
   "execution_count": 65,
   "metadata": {},
   "outputs": [
    {
     "name": "stdout",
     "output_type": "stream",
     "text": [
      "b\n",
      "b\n",
      "a\n",
      "b\n",
      "c\n"
     ]
    }
   ],
   "source": [
    "from faker import Faker\n",
    "\n",
    "Faker.seed(0)\n",
    "fake = Faker('pt_BR')\n",
    "\n",
    "for _ in range(5):\n",
    "    print(fake.ipv4_network_class())"
   ]
  },
  {
   "cell_type": "markdown",
   "metadata": {},
   "source": []
  },
  {
   "cell_type": "code",
   "execution_count": 66,
   "metadata": {},
   "outputs": [
    {
     "name": "stdout",
     "output_type": "stream",
     "text": [
      "e3e7:682:c209:4cac:629f:6fbf:d82c:7cd\n",
      "f728:b4fa:4248:5e3a:a5d:2f35:6baa:9455\n",
      "eb11:67b3:67a9:c378:7c65:c1e6:82e2:e662\n",
      "f7c1:bd87:4da5:e709:d471:3d61:c8a7:639\n",
      "e443:df78:9558:867f:5ba9:1fb0:7a02:4204\n"
     ]
    }
   ],
   "source": [
    "from faker import Faker\n",
    "\n",
    "Faker.seed(0)\n",
    "fake = Faker('pt_BR')\n",
    "\n",
    "for _ in range(5):\n",
    "    print(fake.ipv6())"
   ]
  },
  {
   "cell_type": "markdown",
   "metadata": {},
   "source": []
  },
  {
   "cell_type": "code",
   "execution_count": 67,
   "metadata": {},
   "outputs": [
    {
     "name": "stdout",
     "output_type": "stream",
     "text": [
      "50494\n",
      "55125\n",
      "5306\n",
      "33936\n",
      "63691\n"
     ]
    }
   ],
   "source": [
    "from faker import Faker\n",
    "\n",
    "Faker.seed(0)\n",
    "fake = Faker('pt_BR')\n",
    "\n",
    "for _ in range(5):\n",
    "    print(fake.port_number())"
   ]
  },
  {
   "cell_type": "markdown",
   "metadata": {},
   "source": []
  },
  {
   "cell_type": "code",
   "execution_count": 68,
   "metadata": {},
   "outputs": [
    {
     "name": "stdout",
     "output_type": "stream",
     "text": [
      "example.com\n",
      "example.com\n",
      "example.org\n",
      "example.com\n",
      "example.net\n"
     ]
    }
   ],
   "source": [
    "from faker import Faker\n",
    "\n",
    "Faker.seed(0)\n",
    "fake = Faker('pt_BR')\n",
    "\n",
    "for _ in range(5):\n",
    "    print(fake.safe_domain_name())"
   ]
  },
  {
   "cell_type": "markdown",
   "metadata": {},
   "source": []
  },
  {
   "cell_type": "code",
   "execution_count": 69,
   "metadata": {},
   "outputs": [
    {
     "name": "stdout",
     "output_type": "stream",
     "text": [
      "br\n",
      "br\n",
      "com\n",
      "org\n",
      "br\n"
     ]
    }
   ],
   "source": [
    "from faker import Faker\n",
    "\n",
    "Faker.seed(0)\n",
    "fake = Faker('pt_BR')\n",
    "\n",
    "for _ in range(5):\n",
    "    print(fake.tld())"
   ]
  },
  {
   "cell_type": "markdown",
   "metadata": {},
   "source": []
  },
  {
   "cell_type": "code",
   "execution_count": 70,
   "metadata": {},
   "outputs": [
    {
     "name": "stdout",
     "output_type": "stream",
     "text": [
      ".php\n",
      ".php\n",
      ".html\n",
      ".htm\n",
      ".asp\n"
     ]
    }
   ],
   "source": [
    "from faker import Faker\n",
    "\n",
    "Faker.seed(0)\n",
    "fake = Faker('pt_BR')\n",
    "\n",
    "for _ in range(5):\n",
    "    print(fake.uri_extension())"
   ]
  },
  {
   "cell_type": "markdown",
   "metadata": {},
   "source": []
  },
  {
   "cell_type": "code",
   "execution_count": 71,
   "metadata": {},
   "outputs": [
    {
     "name": "stdout",
     "output_type": "stream",
     "text": [
      "author\n",
      "category\n",
      "privacy\n",
      "category\n",
      "index\n"
     ]
    }
   ],
   "source": [
    "from faker import Faker\n",
    "\n",
    "Faker.seed(0)\n",
    "fake = Faker('pt_BR')\n",
    "\n",
    "for _ in range(5):\n",
    "    print(fake.uri_page())"
   ]
  },
  {
   "cell_type": "markdown",
   "metadata": {},
   "source": []
  },
  {
   "cell_type": "code",
   "execution_count": 72,
   "metadata": {},
   "outputs": [
    {
     "name": "stdout",
     "output_type": "stream",
     "text": [
      "posts/tag\n",
      "explore/tag\n",
      "explore/category\n",
      "blog\n",
      "category\n"
     ]
    }
   ],
   "source": [
    "from faker import Faker\n",
    "\n",
    "Faker.seed(0)\n",
    "fake = Faker('pt_BR')\n",
    "\n",
    "for _ in range(5):\n",
    "    print(fake.uri_path())"
   ]
  },
  {
   "cell_type": "markdown",
   "metadata": {},
   "source": []
  },
  {
   "cell_type": "code",
   "execution_count": 73,
   "metadata": {},
   "outputs": [
    {
     "name": "stdout",
     "output_type": "stream",
     "text": [
      "https://da.br/\n",
      "https://fogaca.net/\n",
      "http://sa.org/\n",
      "http://siqueira.br/\n",
      "https://www.lopes.br/\n"
     ]
    }
   ],
   "source": [
    "from faker import Faker\n",
    "\n",
    "Faker.seed(0)\n",
    "fake = Faker('pt_BR')\n",
    "\n",
    "for _ in range(5):\n",
    "    print(fake.url())"
   ]
  },
  {
   "cell_type": "markdown",
   "metadata": {},
   "source": []
  },
  {
   "cell_type": "code",
   "execution_count": 74,
   "metadata": {},
   "outputs": [
    {
     "name": "stdout",
     "output_type": "stream",
     "text": [
      "Jogador de golfe\n",
      "Lutador de luta livre\n",
      "Armador\n",
      "Engenheiro de produto ou produção\n",
      "Paparazzo\n"
     ]
    }
   ],
   "source": [
    "from faker import Faker\n",
    "\n",
    "Faker.seed(0)\n",
    "fake = Faker('pt_BR')\n",
    "\n",
    "for _ in range(5):\n",
    "    print(fake.job())"
   ]
  },
  {
   "cell_type": "markdown",
   "metadata": {},
   "source": []
  },
  {
   "cell_type": "code",
   "execution_count": 75,
   "metadata": {},
   "outputs": [
    {
     "name": "stdout",
     "output_type": "stream",
     "text": [
      "Helena\n",
      "Laura\n",
      "Bruno\n",
      "Valentim\n",
      "Nina\n"
     ]
    }
   ],
   "source": [
    "from faker import Faker\n",
    "\n",
    "Faker.seed(0)\n",
    "fake = Faker('pt_BR')\n",
    "\n",
    "for _ in range(5):\n",
    "    print(fake.first_name())"
   ]
  },
  {
   "cell_type": "markdown",
   "metadata": {},
   "source": []
  },
  {
   "cell_type": "code",
   "execution_count": 76,
   "metadata": {},
   "outputs": [
    {
     "name": "stdout",
     "output_type": "stream",
     "text": [
      "Maria Isis\n",
      "Mariah\n",
      "Ana Cecília\n",
      "Joana\n",
      "Sophia\n"
     ]
    }
   ],
   "source": [
    "from faker import Faker\n",
    "\n",
    "Faker.seed(0)\n",
    "fake = Faker('pt_BR')\n",
    "\n",
    "for _ in range(5):\n",
    "    print(fake.first_name_female())"
   ]
  },
  {
   "cell_type": "markdown",
   "metadata": {},
   "source": []
  },
  {
   "cell_type": "code",
   "execution_count": 77,
   "metadata": {},
   "outputs": [
    {
     "name": "stdout",
     "output_type": "stream",
     "text": [
      "Matheus\n",
      "Otto\n",
      "Asafe\n",
      "José Pedro\n",
      "Thomas\n"
     ]
    }
   ],
   "source": [
    "from faker import Faker\n",
    "\n",
    "Faker.seed(0)\n",
    "fake = Faker('pt_BR')\n",
    "\n",
    "for _ in range(5):\n",
    "    print(fake.first_name_male())"
   ]
  },
  {
   "cell_type": "markdown",
   "metadata": {},
   "source": []
  },
  {
   "cell_type": "code",
   "execution_count": 78,
   "metadata": {},
   "outputs": [
    {
     "name": "stdout",
     "output_type": "stream",
     "text": [
      "Helena\n",
      "Laura\n",
      "Bruno\n",
      "Valentim\n",
      "Nina\n"
     ]
    }
   ],
   "source": [
    "from faker import Faker\n",
    "\n",
    "Faker.seed(0)\n",
    "fake = Faker('pt_BR')\n",
    "\n",
    "for _ in range(5):\n",
    "    print(fake.first_name_nonbinary())"
   ]
  },
  {
   "cell_type": "markdown",
   "metadata": {},
   "source": []
  },
  {
   "cell_type": "code",
   "execution_count": 79,
   "metadata": {},
   "outputs": [
    {
     "name": "stdout",
     "output_type": "stream",
     "text": [
      "Gomes\n",
      "Teixeira\n",
      "Leão\n",
      "Aparecida\n",
      "da Luz\n"
     ]
    }
   ],
   "source": [
    "from faker import Faker\n",
    "\n",
    "Faker.seed(0)\n",
    "fake = Faker('pt_BR')\n",
    "\n",
    "for _ in range(5):\n",
    "    print(fake.last_name())"
   ]
  },
  {
   "cell_type": "markdown",
   "metadata": {},
   "source": []
  },
  {
   "cell_type": "code",
   "execution_count": 80,
   "metadata": {},
   "outputs": [
    {
     "name": "stdout",
     "output_type": "stream",
     "text": [
      "Gomes\n",
      "Teixeira\n",
      "Leão\n",
      "Aparecida\n",
      "da Luz\n"
     ]
    }
   ],
   "source": [
    "from faker import Faker\n",
    "\n",
    "Faker.seed(0)\n",
    "fake = Faker('pt_BR')\n",
    "\n",
    "for _ in range(5):\n",
    "    print(fake.last_name_female())"
   ]
  },
  {
   "cell_type": "markdown",
   "metadata": {},
   "source": []
  },
  {
   "cell_type": "code",
   "execution_count": 81,
   "metadata": {},
   "outputs": [
    {
     "name": "stdout",
     "output_type": "stream",
     "text": [
      "Gomes\n",
      "Teixeira\n",
      "Leão\n",
      "Aparecida\n",
      "da Luz\n"
     ]
    }
   ],
   "source": [
    "from faker import Faker\n",
    "\n",
    "Faker.seed(0)\n",
    "fake = Faker('pt_BR')\n",
    "\n",
    "for _ in range(5):\n",
    "    print(fake.last_name_male())"
   ]
  },
  {
   "cell_type": "markdown",
   "metadata": {},
   "source": []
  },
  {
   "cell_type": "code",
   "execution_count": 82,
   "metadata": {},
   "outputs": [
    {
     "name": "stdout",
     "output_type": "stream",
     "text": [
      "Gomes\n",
      "Teixeira\n",
      "Leão\n",
      "Aparecida\n",
      "da Luz\n"
     ]
    }
   ],
   "source": [
    "from faker import Faker\n",
    "\n",
    "Faker.seed(0)\n",
    "fake = Faker('pt_BR')\n",
    "\n",
    "for _ in range(5):\n",
    "    print(fake.last_name_nonbinary())"
   ]
  },
  {
   "cell_type": "markdown",
   "metadata": {},
   "source": []
  },
  {
   "cell_type": "code",
   "execution_count": 83,
   "metadata": {},
   "outputs": [
    {
     "name": "stdout",
     "output_type": "stream",
     "text": [
      "Sra.\n",
      "Dr.\n",
      "Sra.\n",
      "Sra.\n",
      "Dra.\n"
     ]
    }
   ],
   "source": [
    "from faker import Faker\n",
    "\n",
    "Faker.seed(0)\n",
    "fake = Faker('pt_BR')\n",
    "\n",
    "for _ in range(5):\n",
    "    print(fake.prefix())"
   ]
  },
  {
   "cell_type": "markdown",
   "metadata": {},
   "source": []
  },
  {
   "cell_type": "code",
   "execution_count": 84,
   "metadata": {},
   "outputs": [
    {
     "name": "stdout",
     "output_type": "stream",
     "text": [
      "Sra.\n",
      "Sra.\n",
      "Srta.\n",
      "Sra.\n",
      "Dra.\n"
     ]
    }
   ],
   "source": [
    "from faker import Faker\n",
    "\n",
    "Faker.seed(0)\n",
    "fake = Faker('pt_BR')\n",
    "\n",
    "for _ in range(5):\n",
    "    print(fake.prefix_female())"
   ]
  },
  {
   "cell_type": "markdown",
   "metadata": {},
   "source": []
  },
  {
   "cell_type": "code",
   "execution_count": 85,
   "metadata": {},
   "outputs": [
    {
     "name": "stdout",
     "output_type": "stream",
     "text": [
      "Dr.\n",
      "Dr.\n",
      "Sr.\n",
      "Dr.\n",
      "Dr.\n"
     ]
    }
   ],
   "source": [
    "from faker import Faker\n",
    "\n",
    "Faker.seed(0)\n",
    "fake = Faker('pt_BR')\n",
    "\n",
    "for _ in range(5):\n",
    "    print(fake.prefix_male())"
   ]
  },
  {
   "cell_type": "markdown",
   "metadata": {},
   "source": []
  },
  {
   "cell_type": "code",
   "execution_count": 86,
   "metadata": {},
   "outputs": [
    {
     "name": "stdout",
     "output_type": "stream",
     "text": [
      "+55 60 9 4876-4759\n",
      "+55 (82) 94219 4892\n",
      "+55 (11) 9 5781 5659\n",
      "+55 (87) 97840 8016\n",
      "+55 97 95351 3933\n"
     ]
    }
   ],
   "source": [
    "from faker import Faker\n",
    "\n",
    "Faker.seed(0)\n",
    "fake = Faker('pt_BR')\n",
    "\n",
    "for _ in range(5):\n",
    "    print(fake.cellphone_number())"
   ]
  },
  {
   "cell_type": "markdown",
   "metadata": {},
   "source": []
  },
  {
   "cell_type": "code",
   "execution_count": 87,
   "metadata": {},
   "outputs": [
    {
     "name": "stdout",
     "output_type": "stream",
     "text": [
      "+687\n",
      "+595\n",
      "+880\n",
      "+964\n",
      "+41\n"
     ]
    }
   ],
   "source": [
    "from faker import Faker\n",
    "\n",
    "Faker.seed(0)\n",
    "fake = Faker('pt_BR')\n",
    "\n",
    "for _ in range(5):\n",
    "    print(fake.country_calling_code())"
   ]
  },
  {
   "cell_type": "markdown",
   "metadata": {},
   "source": []
  },
  {
   "cell_type": "code",
   "execution_count": 88,
   "metadata": {},
   "outputs": [
    {
     "name": "stdout",
     "output_type": "stream",
     "text": [
      "5571960487647\n",
      "5561993824219\n",
      "5551989241157\n",
      "5584915659387\n",
      "5581984080160\n"
     ]
    }
   ],
   "source": [
    "from faker import Faker\n",
    "\n",
    "Faker.seed(0)\n",
    "fake = Faker('pt_BR')\n",
    "\n",
    "for _ in range(5):\n",
    "    print(fake.msisdn())"
   ]
  },
  {
   "cell_type": "markdown",
   "metadata": {},
   "source": []
  },
  {
   "cell_type": "code",
   "execution_count": 89,
   "metadata": {},
   "outputs": [
    {
     "name": "stdout",
     "output_type": "stream",
     "text": [
      "51 6048 7647\n",
      "11 9382 4219\n",
      "+55 61 8924-1157\n",
      "84 1565-9387\n",
      "(031) 8408-0160\n"
     ]
    }
   ],
   "source": [
    "from faker import Faker\n",
    "\n",
    "Faker.seed(0)\n",
    "fake = Faker('pt_BR')\n",
    "\n",
    "for _ in range(5):\n",
    "    print(fake.phone_number())"
   ]
  },
  {
   "cell_type": "markdown",
   "metadata": {},
   "source": []
  },
  {
   "cell_type": "code",
   "execution_count": 90,
   "metadata": {},
   "outputs": [
    {
     "name": "stdout",
     "output_type": "stream",
     "text": [
      "690.243.518-98\n",
      "532.710.684-53\n",
      "418.652.390-89\n",
      "569.471.382-64\n",
      "089.753.621-59\n"
     ]
    }
   ],
   "source": [
    "from faker import Faker\n",
    "\n",
    "Faker.seed(0)\n",
    "fake = Faker('pt_BR')\n",
    "\n",
    "for _ in range(5):\n",
    "    print(fake.cpf())"
   ]
  },
  {
   "cell_type": "markdown",
   "metadata": {},
   "source": []
  },
  {
   "cell_type": "code",
   "execution_count": 91,
   "metadata": {},
   "outputs": [
    {
     "name": "stdout",
     "output_type": "stream",
     "text": [
      "68024315X\n",
      "75416830X\n",
      "147568304\n",
      "153402866\n",
      "378420562\n"
     ]
    }
   ],
   "source": [
    "from faker import Faker\n",
    "\n",
    "Faker.seed(0)\n",
    "fake = Faker('pt_BR')\n",
    "\n",
    "for _ in range(5):\n",
    "    print(fake.rg())"
   ]
  }
 ],
 "metadata": {
  "kernelspec": {
   "display_name": "Python 3",
   "language": "python",
   "name": "python3"
  },
  "language_info": {
   "codemirror_mode": {
    "name": "ipython",
    "version": 3
   },
   "file_extension": ".py",
   "mimetype": "text/x-python",
   "name": "python",
   "nbconvert_exporter": "python",
   "pygments_lexer": "ipython3",
   "version": "3.12.2"
  }
 },
 "nbformat": 4,
 "nbformat_minor": 2
}
